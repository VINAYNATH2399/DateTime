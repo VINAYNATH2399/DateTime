{
 "cells": [
  {
   "cell_type": "markdown",
   "id": "b255bf3d",
   "metadata": {},
   "source": [
    "\n",
    "                              Datetime"
   ]
  },
  {
   "cell_type": "code",
   "execution_count": null,
   "id": "ba4893cd",
   "metadata": {},
   "outputs": [],
   "source": [
    "                \n",
    "Defination:- A datetime object is a single object containing all the information from a date object and a time object    "
   ]
  },
  {
   "cell_type": "code",
   "execution_count": 2,
   "id": "9df17e67",
   "metadata": {},
   "outputs": [],
   "source": [
    "import datetime"
   ]
  },
  {
   "cell_type": "code",
   "execution_count": 3,
   "id": "51d0f605",
   "metadata": {},
   "outputs": [
    {
     "name": "stdout",
     "output_type": "stream",
     "text": [
      "2022-04-14 15:47:05.428215\n"
     ]
    }
   ],
   "source": [
    "print(datetime.datetime.now())    ## retruns the current datetime object"
   ]
  },
  {
   "cell_type": "code",
   "execution_count": 4,
   "id": "405d3a31",
   "metadata": {},
   "outputs": [
    {
     "name": "stdout",
     "output_type": "stream",
     "text": [
      "2022-04-14 15:47:30.244308\n"
     ]
    }
   ],
   "source": [
    "print(datetime.datetime.today())"
   ]
  },
  {
   "cell_type": "code",
   "execution_count": 5,
   "id": "95d11744",
   "metadata": {},
   "outputs": [
    {
     "name": "stdout",
     "output_type": "stream",
     "text": [
      "2022-04-14\n"
     ]
    }
   ],
   "source": [
    "print(datetime.date.today())         # retruns the current date object"
   ]
  },
  {
   "cell_type": "code",
   "execution_count": 6,
   "id": "66ab54a8",
   "metadata": {},
   "outputs": [
    {
     "ename": "AttributeError",
     "evalue": "type object 'datetime.date' has no attribute 'tomarrow'",
     "output_type": "error",
     "traceback": [
      "\u001b[1;31m---------------------------------------------------------------------------\u001b[0m",
      "\u001b[1;31mAttributeError\u001b[0m                            Traceback (most recent call last)",
      "Input \u001b[1;32mIn [6]\u001b[0m, in \u001b[0;36m<cell line: 1>\u001b[1;34m()\u001b[0m\n\u001b[1;32m----> 1\u001b[0m \u001b[38;5;28mprint\u001b[39m(\u001b[43mdatetime\u001b[49m\u001b[38;5;241;43m.\u001b[39;49m\u001b[43mdate\u001b[49m\u001b[38;5;241;43m.\u001b[39;49m\u001b[43mtomarrow\u001b[49m())\n",
      "\u001b[1;31mAttributeError\u001b[0m: type object 'datetime.date' has no attribute 'tomarrow'"
     ]
    }
   ],
   "source": [
    "print(datetime.date.tomarrow())"
   ]
  },
  {
   "cell_type": "code",
   "execution_count": 7,
   "id": "527f34e0",
   "metadata": {},
   "outputs": [
    {
     "name": "stdout",
     "output_type": "stream",
     "text": [
      "2022-04-14 15:48:29.071609\n"
     ]
    }
   ],
   "source": [
    "print(datetime.datetime.now())"
   ]
  },
  {
   "cell_type": "markdown",
   "id": "bcedad57",
   "metadata": {},
   "source": [
    "                               \n",
    "                             time\n",
    "                               "
   ]
  },
  {
   "cell_type": "code",
   "execution_count": null,
   "id": "037e5d67",
   "metadata": {},
   "outputs": [],
   "source": [
    "                                   \n",
    "Defination:- time() is a function of the time module that returns the total number of \n",
    "             ticks(seconds) spent since 12 AM , January  1st, 1970    "
   ]
  },
  {
   "cell_type": "code",
   "execution_count": 8,
   "id": "2e0b16f6",
   "metadata": {},
   "outputs": [],
   "source": [
    "import time"
   ]
  },
  {
   "cell_type": "code",
   "execution_count": 9,
   "id": "604ebcb7",
   "metadata": {},
   "outputs": [
    {
     "name": "stdout",
     "output_type": "stream",
     "text": [
      "1649931634.1519964\n"
     ]
    }
   ],
   "source": [
    "print(time.time()) # print the number of ticks spent"
   ]
  },
  {
   "cell_type": "code",
   "execution_count": 10,
   "id": "9c274518",
   "metadata": {},
   "outputs": [
    {
     "name": "stdout",
     "output_type": "stream",
     "text": [
      "1649931691.439464\n"
     ]
    }
   ],
   "source": [
    "print(time.time())"
   ]
  },
  {
   "cell_type": "code",
   "execution_count": 11,
   "id": "f80c935e",
   "metadata": {},
   "outputs": [
    {
     "name": "stdout",
     "output_type": "stream",
     "text": [
      "1649931694.2957363\n"
     ]
    }
   ],
   "source": [
    "print(time.time())"
   ]
  },
  {
   "cell_type": "code",
   "execution_count": 47,
   "id": "90182c42",
   "metadata": {},
   "outputs": [
    {
     "name": "stdout",
     "output_type": "stream",
     "text": [
      "2022\n",
      "4\n",
      "14\n"
     ]
    }
   ],
   "source": [
    "import time\n",
    "x = datetime.datetime.now()\n",
    "print(x.year)\n",
    "print(x.month)\n",
    "print(x.day)"
   ]
  },
  {
   "cell_type": "code",
   "execution_count": 53,
   "id": "2278dcc5",
   "metadata": {},
   "outputs": [
    {
     "name": "stdout",
     "output_type": "stream",
     "text": [
      "April\n"
     ]
    }
   ],
   "source": [
    "x = datetime.datetime(2022, 4, 14)\n",
    "\n",
    "print(x.strftime(\"%B\"))"
   ]
  },
  {
   "cell_type": "code",
   "execution_count": null,
   "id": "7b90a594",
   "metadata": {},
   "outputs": [],
   "source": [
    "%a\tWeekday, short version\tWed\t\n",
    "%A\tWeekday, full version\tWednesday\t\n",
    "%w\tWeekday as a number 0-6, 0 is Sunday\t3\t\n",
    "%d\tDay of month 01-31\t31\t\n",
    "%b\tMonth name, short version\tDec\t\n",
    "%B\tMonth name, full version\tDecember\t\n",
    "%m\tMonth as a number 01-12\t12\t\n",
    "%y\tYear, short version, without century\t18\t\n",
    "%Y\tYear, full version\t2018\t\n",
    "%H\tHour 00-23\t17\t\n",
    "%I\tHour 00-12\t05\t\n",
    "%p\tAM/PM\tPM\t\n",
    "%M\tMinute 00-59\t41\t\n",
    "%S\tSecond 00-59\t08\t\n",
    "%f\tMicrosecond 000000-999999\t548513\t\n",
    "%z\tUTC offset\t+0100\t\n",
    "%Z\tTimezone\tCST\t\n",
    "%j\tDay number of year 001-366\t365\t\n",
    "%U\tWeek number of year, Sunday as the first day of week, 00-53\t52\t\n",
    "%W\tWeek number of year, Monday as the first day of week, 00-53\t52\t\n",
    "%c\tLocal version of date and time\tMon Dec 31 17:41:00 2018\t\n",
    "%C\tCentury\t20\t\n",
    "%x\tLocal version of date\t12/31/18\t\n",
    "%X\tLocal version of time\t17:41:00\t\n",
    "%%\tA % character\t%\t\n",
    "%G\tISO 8601 year\t2018\t\n",
    "%u\tISO 8601 weekday (1-7)\t1\t\n",
    "%V\tISO 8601 weeknumber (01-53)\t01\t\n"
   ]
  },
  {
   "cell_type": "code",
   "execution_count": 15,
   "id": "f2453e90",
   "metadata": {},
   "outputs": [
    {
     "name": "stdout",
     "output_type": "stream",
     "text": [
      "Thu\n"
     ]
    }
   ],
   "source": [
    "print(x.strftime(\"%a\"))"
   ]
  },
  {
   "cell_type": "code",
   "execution_count": 14,
   "id": "863fd16a",
   "metadata": {},
   "outputs": [
    {
     "name": "stdout",
     "output_type": "stream",
     "text": [
      "Thursday\n"
     ]
    }
   ],
   "source": [
    "print(x.strftime(\"%A\"))"
   ]
  },
  {
   "cell_type": "code",
   "execution_count": 16,
   "id": "8f67abe6",
   "metadata": {},
   "outputs": [
    {
     "name": "stdout",
     "output_type": "stream",
     "text": [
      "4\n"
     ]
    }
   ],
   "source": [
    "print(x.strftime(\"%w\"))"
   ]
  },
  {
   "cell_type": "code",
   "execution_count": 17,
   "id": "d0ccd97c",
   "metadata": {},
   "outputs": [
    {
     "name": "stdout",
     "output_type": "stream",
     "text": [
      "Apr\n"
     ]
    }
   ],
   "source": [
    "print(x.strftime(\"%b\"))"
   ]
  },
  {
   "cell_type": "code",
   "execution_count": 18,
   "id": "af302cc1",
   "metadata": {},
   "outputs": [
    {
     "name": "stdout",
     "output_type": "stream",
     "text": [
      "14\n"
     ]
    }
   ],
   "source": [
    "print(x.strftime(\"%d\"))"
   ]
  },
  {
   "cell_type": "code",
   "execution_count": 19,
   "id": "92a64881",
   "metadata": {},
   "outputs": [
    {
     "name": "stdout",
     "output_type": "stream",
     "text": [
      "April\n"
     ]
    }
   ],
   "source": [
    "print(x.strftime(\"%B\"))"
   ]
  },
  {
   "cell_type": "code",
   "execution_count": 20,
   "id": "194cb85e",
   "metadata": {},
   "outputs": [
    {
     "name": "stdout",
     "output_type": "stream",
     "text": [
      "04\n"
     ]
    }
   ],
   "source": [
    "print(x.strftime(\"%m\"))"
   ]
  },
  {
   "cell_type": "code",
   "execution_count": 21,
   "id": "534fe408",
   "metadata": {},
   "outputs": [
    {
     "name": "stdout",
     "output_type": "stream",
     "text": [
      "22\n"
     ]
    }
   ],
   "source": [
    "print(x.strftime(\"%y\"))"
   ]
  },
  {
   "cell_type": "code",
   "execution_count": 22,
   "id": "572fb9f8",
   "metadata": {},
   "outputs": [
    {
     "name": "stdout",
     "output_type": "stream",
     "text": [
      "2022\n"
     ]
    }
   ],
   "source": [
    "print(x.strftime(\"%Y\"))"
   ]
  },
  {
   "cell_type": "code",
   "execution_count": 23,
   "id": "ac8d972d",
   "metadata": {},
   "outputs": [
    {
     "name": "stdout",
     "output_type": "stream",
     "text": [
      "Thursday\n"
     ]
    }
   ],
   "source": [
    "print(x.strftime(\"%A\"))"
   ]
  },
  {
   "cell_type": "code",
   "execution_count": 24,
   "id": "f633db79",
   "metadata": {},
   "outputs": [
    {
     "name": "stdout",
     "output_type": "stream",
     "text": [
      "16\n"
     ]
    }
   ],
   "source": [
    "print(x.strftime(\"%H\"))"
   ]
  },
  {
   "cell_type": "code",
   "execution_count": 25,
   "id": "c0de7d8f",
   "metadata": {},
   "outputs": [
    {
     "name": "stdout",
     "output_type": "stream",
     "text": [
      "04\n"
     ]
    }
   ],
   "source": [
    "print(x.strftime(\"%I\"))"
   ]
  },
  {
   "cell_type": "code",
   "execution_count": 27,
   "id": "ae8788ae",
   "metadata": {},
   "outputs": [
    {
     "name": "stdout",
     "output_type": "stream",
     "text": [
      "PM\n"
     ]
    }
   ],
   "source": [
    "print(x.strftime(\"%p\"))"
   ]
  },
  {
   "cell_type": "code",
   "execution_count": 28,
   "id": "ea02fd69",
   "metadata": {},
   "outputs": [
    {
     "name": "stdout",
     "output_type": "stream",
     "text": [
      "03\n"
     ]
    }
   ],
   "source": [
    "print(x.strftime(\"%M\"))"
   ]
  },
  {
   "cell_type": "code",
   "execution_count": 29,
   "id": "b23437e3",
   "metadata": {},
   "outputs": [
    {
     "name": "stdout",
     "output_type": "stream",
     "text": [
      "14\n"
     ]
    }
   ],
   "source": [
    "print(x.strftime(\"%S\"))"
   ]
  },
  {
   "cell_type": "code",
   "execution_count": 54,
   "id": "09994add",
   "metadata": {},
   "outputs": [
    {
     "name": "stdout",
     "output_type": "stream",
     "text": [
      "000000\n"
     ]
    }
   ],
   "source": [
    "print(x.strftime(\"%f\"))"
   ]
  },
  {
   "cell_type": "code",
   "execution_count": 31,
   "id": "aba33a40",
   "metadata": {},
   "outputs": [
    {
     "name": "stdout",
     "output_type": "stream",
     "text": [
      "\n"
     ]
    }
   ],
   "source": [
    "print(x.strftime(\"%z\"))"
   ]
  },
  {
   "cell_type": "code",
   "execution_count": 33,
   "id": "4d9f290d",
   "metadata": {},
   "outputs": [
    {
     "name": "stdout",
     "output_type": "stream",
     "text": [
      "\n"
     ]
    }
   ],
   "source": [
    "print(x.strftime(\"%Z\"))"
   ]
  },
  {
   "cell_type": "code",
   "execution_count": 34,
   "id": "e0254ed7",
   "metadata": {},
   "outputs": [
    {
     "name": "stdout",
     "output_type": "stream",
     "text": [
      "104\n"
     ]
    }
   ],
   "source": [
    "print(x.strftime(\"%j\"))"
   ]
  },
  {
   "cell_type": "code",
   "execution_count": 45,
   "id": "6700e9d3",
   "metadata": {},
   "outputs": [
    {
     "name": "stdout",
     "output_type": "stream",
     "text": [
      "15\n"
     ]
    }
   ],
   "source": [
    "print(x.strftime(\"%U\"))"
   ]
  },
  {
   "cell_type": "code",
   "execution_count": 46,
   "id": "868cc09a",
   "metadata": {},
   "outputs": [
    {
     "name": "stdout",
     "output_type": "stream",
     "text": [
      "15\n"
     ]
    }
   ],
   "source": [
    "print(x.strftime(\"%W\"))"
   ]
  },
  {
   "cell_type": "code",
   "execution_count": 37,
   "id": "a0fe9d7c",
   "metadata": {},
   "outputs": [
    {
     "name": "stdout",
     "output_type": "stream",
     "text": [
      "Thu Apr 14 16:03:14 2022\n"
     ]
    }
   ],
   "source": [
    "print(x.strftime(\"%c\"))"
   ]
  },
  {
   "cell_type": "code",
   "execution_count": 38,
   "id": "026b5b47",
   "metadata": {},
   "outputs": [
    {
     "name": "stdout",
     "output_type": "stream",
     "text": [
      "20\n"
     ]
    }
   ],
   "source": [
    "print(x.strftime(\"%C\"))"
   ]
  },
  {
   "cell_type": "code",
   "execution_count": 39,
   "id": "c91d4bba",
   "metadata": {},
   "outputs": [
    {
     "name": "stdout",
     "output_type": "stream",
     "text": [
      "04/14/22\n"
     ]
    }
   ],
   "source": [
    "print(x.strftime(\"%x\"))"
   ]
  },
  {
   "cell_type": "code",
   "execution_count": 52,
   "id": "7c11abe0",
   "metadata": {},
   "outputs": [
    {
     "name": "stdout",
     "output_type": "stream",
     "text": [
      "00:00:00\n"
     ]
    }
   ],
   "source": [
    "print(x.strftime(\"%X\"))"
   ]
  },
  {
   "cell_type": "code",
   "execution_count": 41,
   "id": "6464f479",
   "metadata": {},
   "outputs": [
    {
     "name": "stdout",
     "output_type": "stream",
     "text": [
      "%\n"
     ]
    }
   ],
   "source": [
    "print(x.strftime(\"%%\"))"
   ]
  },
  {
   "cell_type": "code",
   "execution_count": 42,
   "id": "fa42ded1",
   "metadata": {},
   "outputs": [
    {
     "name": "stdout",
     "output_type": "stream",
     "text": [
      "2022\n"
     ]
    }
   ],
   "source": [
    "print(x.strftime(\"%G\"))"
   ]
  },
  {
   "cell_type": "code",
   "execution_count": 43,
   "id": "f3819262",
   "metadata": {},
   "outputs": [
    {
     "name": "stdout",
     "output_type": "stream",
     "text": [
      "4\n"
     ]
    }
   ],
   "source": [
    "print(x.strftime(\"%u\"))"
   ]
  },
  {
   "cell_type": "code",
   "execution_count": 55,
   "id": "456ff2bb",
   "metadata": {},
   "outputs": [
    {
     "name": "stdout",
     "output_type": "stream",
     "text": [
      "15\n"
     ]
    }
   ],
   "source": [
    "print(x.strftime(\"%V\"))"
   ]
  },
  {
   "cell_type": "code",
   "execution_count": 56,
   "id": "aac40026",
   "metadata": {},
   "outputs": [],
   "source": [
    "from datetime import datetime\n"
   ]
  },
  {
   "cell_type": "code",
   "execution_count": 57,
   "id": "51cf3437",
   "metadata": {},
   "outputs": [
    {
     "name": "stdout",
     "output_type": "stream",
     "text": [
      "2022-04-13 20:53:03\n"
     ]
    }
   ],
   "source": [
    "d = datetime.strptime(\"13-04-2022 20:53:03\" , \"%d-%m-%Y %H:%M:%S\")\n",
    "print(d)"
   ]
  },
  {
   "cell_type": "markdown",
   "id": "da830264",
   "metadata": {},
   "source": [
    "           \n",
    "           Know How Old are you"
   ]
  },
  {
   "cell_type": "code",
   "execution_count": 61,
   "id": "d75afc67",
   "metadata": {},
   "outputs": [],
   "source": [
    "from datetime import date"
   ]
  },
  {
   "cell_type": "code",
   "execution_count": 2,
   "id": "149d4c43",
   "metadata": {},
   "outputs": [
    {
     "name": "stdout",
     "output_type": "stream",
     "text": [
      "True\n",
      "22\n"
     ]
    }
   ],
   "source": [
    "def age(birthdate):\n",
    "    today = date.today()\n",
    "    age = today.year - birthdate.year - ((today.month , today.day) < (birthdate.month , birthdate.day))\n",
    "    print(((today.month , today.day) < (birthdate.month , birthdate.day)))\n",
    "    return age\n",
    "my_birthday = date(1999 , 9 , 23)\n",
    "myage = age(my_birthday)\n",
    "print(myage)"
   ]
  },
  {
   "cell_type": "markdown",
   "id": "881c66e5",
   "metadata": {},
   "source": [
    "                      Python Sleep Module"
   ]
  },
  {
   "cell_type": "code",
   "execution_count": 71,
   "id": "178ce128",
   "metadata": {},
   "outputs": [
    {
     "name": "stdout",
     "output_type": "stream",
     "text": [
      "0\n",
      "2\n",
      "4\n",
      "6\n",
      "8\n",
      "10\n",
      "12\n",
      "14\n",
      "16\n",
      "18\n"
     ]
    }
   ],
   "source": [
    "import time\n",
    "for i in range(0,10):                                             #sleep()\n",
    "    print(i * 2)\n",
    "    \n",
    "    time.sleep(4)"
   ]
  },
  {
   "cell_type": "markdown",
   "id": "23af8cba",
   "metadata": {},
   "source": [
    "                         date.weekday() function in Python"
   ]
  },
  {
   "cell_type": "code",
   "execution_count": 1,
   "id": "50a63965",
   "metadata": {},
   "outputs": [
    {
     "name": "stdout",
     "output_type": "stream",
     "text": [
      "2022-04-15\n",
      "4\n",
      "Today is : Fri\n"
     ]
    }
   ],
   "source": [
    "from datetime import date\n",
    "\n",
    "today = date.today()\n",
    "print(today)\n",
    "print(today.weekday())\n",
    "\n",
    "if today.weekday() == 0:\n",
    "    print(\"Today is : Monday\")\n",
    "elif today.weekday() == 1:\n",
    "    print(\"Today is : Tue\")\n",
    "elif today.weekday() == 2:\n",
    "    print(\"Today is : Wed\")\n",
    "elif today.weekday() == 3:\n",
    "    print(\"Today is : Thu\")\n",
    "elif today.weekday() == 4:\n",
    "    print(\"Today is : Fri\")\n",
    "elif today.weekday() == 5:\n",
    "    print(\"Today is : Sat\")\n",
    "elif today.weekday() == 6:\n",
    "    print(\"Today is : Sun\")"
   ]
  },
  {
   "cell_type": "code",
   "execution_count": null,
   "id": "88cdb0f8",
   "metadata": {},
   "outputs": [],
   "source": []
  }
 ],
 "metadata": {
  "kernelspec": {
   "display_name": "Python 3 (ipykernel)",
   "language": "python",
   "name": "python3"
  },
  "language_info": {
   "codemirror_mode": {
    "name": "ipython",
    "version": 3
   },
   "file_extension": ".py",
   "mimetype": "text/x-python",
   "name": "python",
   "nbconvert_exporter": "python",
   "pygments_lexer": "ipython3",
   "version": "3.10.3"
  }
 },
 "nbformat": 4,
 "nbformat_minor": 5
}
